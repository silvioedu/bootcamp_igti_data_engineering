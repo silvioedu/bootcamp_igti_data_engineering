{
  "nbformat": 4,
  "nbformat_minor": 0,
  "metadata": {
    "colab": {
      "name": "modulo_01_pratica.ipynb",
      "provenance": [],
      "collapsed_sections": []
    },
    "kernelspec": {
      "name": "python3",
      "display_name": "Python 3"
    }
  },
  "cells": [
    {
      "cell_type": "markdown",
      "metadata": {
        "id": "rTtw9IMGcRmK"
      },
      "source": [
        "# Prática - Modulo 1"
      ]
    },
    {
      "cell_type": "markdown",
      "metadata": {
        "id": "A_Pd1zJkdSWO"
      },
      "source": [
        "**Objetivos**\r\n",
        "\r\n",
        "Exercitar os seguintes conceitos trabalhados no Módulo:\r\n",
        "- Extração de Dados;\r\n",
        "- Desenvolvimento de crawlers;\r\n",
        "- Transformações e análise de dados.\r\n",
        "\r\n",
        "**Enunciado**\r\n",
        "\r\n",
        "Você é uma pessoa da área de Engenheira de Dados em uma empresa de consultoria educacional. Os consultores da empresa vão auxiliar um grupo educacional de ensino médio a desenvolver seu planejamento pedagógico e suas metodologias de ensino. Nesse sentido, eles fizeram a você uma requisição de preparar dados do ENEM para análise.\r\n",
        "Você deve, portanto, extrair os dados do ENEM, selecionar apenas os alunos de Minas Gerais e apresentar algumas análises que vão ajudar o trabalho dos consultores.\r\n",
        "\r\n",
        "**Atividades**\r\n",
        "\r\n",
        "Você deverá desempenhar as seguintes atividades:\r\n",
        "1. Extrair, de maneira programática, os dados do ENEM 2019.\r\n",
        "2. Filtrar apenas os alunos do estado de Minas Gerais.\r\n",
        "3. Salvar um arquivo CSV com os dados já limpos em seu computador.\r\n",
        "4. Escrever os dados numa tabela relacional em uma base de dados de sua escolha (MySQL, PostgreSQL, SQL Server etc.).\r\n",
        "\r\n",
        "**Respostas Finais**\r\n",
        "\r\n",
        "Após a realização da atividade, utilize linguagem SQL ou uma linguagem de programação de sua escolha para responder às questões objetivas."
      ]
    },
    {
      "cell_type": "markdown",
      "metadata": {
        "id": "H89TDArOcXaz"
      },
      "source": [
        "## Imports"
      ]
    },
    {
      "cell_type": "code",
      "metadata": {
        "colab": {
          "base_uri": "https://localhost:8080/"
        },
        "id": "tyV3dedNg7uW",
        "outputId": "4d1fd11e-bc6b-481c-87e2-5b6fb8243985"
      },
      "source": [
        "!pip install datatable"
      ],
      "execution_count": 1,
      "outputs": [
        {
          "output_type": "stream",
          "text": [
            "Requirement already satisfied: datatable in /usr/local/lib/python3.7/dist-packages (0.11.1)\n"
          ],
          "name": "stdout"
        }
      ]
    },
    {
      "cell_type": "code",
      "metadata": {
        "id": "Bw0-_ijiZAA0"
      },
      "source": [
        "import numpy as np\r\n",
        "import pandas as pd\r\n",
        "import warnings\r\n",
        "import os\r\n",
        "from datatable import dt, f\r\n",
        "\r\n",
        "warnings.filterwarnings('ignore')"
      ],
      "execution_count": 2,
      "outputs": []
    },
    {
      "cell_type": "markdown",
      "metadata": {
        "id": "QWFrlCPFZXZd"
      },
      "source": [
        "## Importando dataset"
      ]
    },
    {
      "cell_type": "code",
      "metadata": {
        "id": "pQTIUtAnZot7"
      },
      "source": [
        "PATH_URL = 'http://download.inep.gov.br/microdados/'\r\n",
        "FILENAME = 'microdados_enem_2019.zip'\r\n",
        "DF_FILE = 'DADOS/MICRODADOS_ENEM_2019.csv'"
      ],
      "execution_count": 3,
      "outputs": []
    },
    {
      "cell_type": "code",
      "metadata": {
        "colab": {
          "base_uri": "https://localhost:8080/"
        },
        "id": "idIvilp_ZRQO",
        "outputId": "6ac4c21f-d65d-4b0c-af00-577be5fe92fa"
      },
      "source": [
        "# Obtendo dados\r\n",
        "if (os.path.exists(FILENAME)):\r\n",
        "  print('Arquivo já foi baixado')\r\n",
        "else:\r\n",
        "  !wget $DADOS_URL + $FILENAME"
      ],
      "execution_count": 4,
      "outputs": [
        {
          "output_type": "stream",
          "text": [
            "Arquivo já foi baixado\n"
          ],
          "name": "stdout"
        }
      ]
    },
    {
      "cell_type": "code",
      "metadata": {
        "colab": {
          "base_uri": "https://localhost:8080/"
        },
        "id": "MZ5myfdXZ-qB",
        "outputId": "2cab07a0-f063-44c9-9bf1-b71da806b209"
      },
      "source": [
        "# Descompactar o arquivo zip\r\n",
        "if (os.path.exists(DF_FILE)):\r\n",
        "  print(\"Arquivo já descompactado\")\r\n",
        "else:\r\n",
        "  if (os.path.exists(FILENAME)):\r\n",
        "    !unzip -o $FILENAME  \r\n",
        "  else:\r\n",
        "    print('Arquivo não existe')"
      ],
      "execution_count": 5,
      "outputs": [
        {
          "output_type": "stream",
          "text": [
            "Arquivo já descompactado\n"
          ],
          "name": "stdout"
        }
      ]
    },
    {
      "cell_type": "markdown",
      "metadata": {
        "id": "bQlrZB41fbeD"
      },
      "source": [
        "## Carregar e filtrar dados"
      ]
    },
    {
      "cell_type": "code",
      "metadata": {
        "id": "bXfnXLidfcBo"
      },
      "source": [
        "# Carregando o dataset completo usando o pacote datatable\r\n",
        "df = dt.fread('DADOS/MICRODADOS_ENEM_2019.csv', sep=';', encoding='latin-1')"
      ],
      "execution_count": 6,
      "outputs": []
    },
    {
      "cell_type": "code",
      "metadata": {
        "id": "KRbC-HeAfvGb"
      },
      "source": [
        "# Filtrando apenas alunos do estado de Minas Gerais\r\n",
        "df = df[f.SG_UF_RESIDENCIA == 'MG', :]"
      ],
      "execution_count": 7,
      "outputs": []
    },
    {
      "cell_type": "code",
      "metadata": {
        "id": "1-njCzwIfxiz"
      },
      "source": [
        "# Convertendo para dataframe Pandas\r\n",
        "df = df.to_pandas()"
      ],
      "execution_count": 8,
      "outputs": []
    },
    {
      "cell_type": "code",
      "metadata": {
        "colab": {
          "base_uri": "https://localhost:8080/"
        },
        "id": "eZlTnQeYicnP",
        "outputId": "83536514-5af3-498d-b7f3-3eabb9068db6"
      },
      "source": [
        "print(f'Dataframe filtrado possui {df.shape[0]} linhas e {df.shape[1]} colunas')"
      ],
      "execution_count": 9,
      "outputs": [
        {
          "output_type": "stream",
          "text": [
            "Dataframe filtrado possui 538896 linhas e 136 colunas\n"
          ],
          "name": "stdout"
        }
      ]
    },
    {
      "cell_type": "code",
      "metadata": {
        "colab": {
          "base_uri": "https://localhost:8080/",
          "height": 244
        },
        "id": "mpH8bvLPid7J",
        "outputId": "8af9d8d7-a69e-418f-986c-007b2e5ad60b"
      },
      "source": [
        "df.head()"
      ],
      "execution_count": 10,
      "outputs": [
        {
          "output_type": "execute_result",
          "data": {
            "text/html": [
              "<div>\n",
              "<style scoped>\n",
              "    .dataframe tbody tr th:only-of-type {\n",
              "        vertical-align: middle;\n",
              "    }\n",
              "\n",
              "    .dataframe tbody tr th {\n",
              "        vertical-align: top;\n",
              "    }\n",
              "\n",
              "    .dataframe thead th {\n",
              "        text-align: right;\n",
              "    }\n",
              "</style>\n",
              "<table border=\"1\" class=\"dataframe\">\n",
              "  <thead>\n",
              "    <tr style=\"text-align: right;\">\n",
              "      <th></th>\n",
              "      <th>NU_INSCRICAO</th>\n",
              "      <th>NU_ANO</th>\n",
              "      <th>CO_MUNICIPIO_RESIDENCIA</th>\n",
              "      <th>NO_MUNICIPIO_RESIDENCIA</th>\n",
              "      <th>CO_UF_RESIDENCIA</th>\n",
              "      <th>SG_UF_RESIDENCIA</th>\n",
              "      <th>NU_IDADE</th>\n",
              "      <th>TP_SEXO</th>\n",
              "      <th>TP_ESTADO_CIVIL</th>\n",
              "      <th>TP_COR_RACA</th>\n",
              "      <th>TP_NACIONALIDADE</th>\n",
              "      <th>CO_MUNICIPIO_NASCIMENTO</th>\n",
              "      <th>NO_MUNICIPIO_NASCIMENTO</th>\n",
              "      <th>CO_UF_NASCIMENTO</th>\n",
              "      <th>SG_UF_NASCIMENTO</th>\n",
              "      <th>TP_ST_CONCLUSAO</th>\n",
              "      <th>TP_ANO_CONCLUIU</th>\n",
              "      <th>TP_ESCOLA</th>\n",
              "      <th>TP_ENSINO</th>\n",
              "      <th>IN_TREINEIRO</th>\n",
              "      <th>CO_ESCOLA</th>\n",
              "      <th>CO_MUNICIPIO_ESC</th>\n",
              "      <th>NO_MUNICIPIO_ESC</th>\n",
              "      <th>CO_UF_ESC</th>\n",
              "      <th>SG_UF_ESC</th>\n",
              "      <th>TP_DEPENDENCIA_ADM_ESC</th>\n",
              "      <th>TP_LOCALIZACAO_ESC</th>\n",
              "      <th>TP_SIT_FUNC_ESC</th>\n",
              "      <th>IN_BAIXA_VISAO</th>\n",
              "      <th>IN_CEGUEIRA</th>\n",
              "      <th>IN_SURDEZ</th>\n",
              "      <th>IN_DEFICIENCIA_AUDITIVA</th>\n",
              "      <th>IN_SURDO_CEGUEIRA</th>\n",
              "      <th>IN_DEFICIENCIA_FISICA</th>\n",
              "      <th>IN_DEFICIENCIA_MENTAL</th>\n",
              "      <th>IN_DEFICIT_ATENCAO</th>\n",
              "      <th>IN_DISLEXIA</th>\n",
              "      <th>IN_DISCALCULIA</th>\n",
              "      <th>IN_AUTISMO</th>\n",
              "      <th>IN_VISAO_MONOCULAR</th>\n",
              "      <th>...</th>\n",
              "      <th>TX_RESPOSTAS_CH</th>\n",
              "      <th>TX_RESPOSTAS_LC</th>\n",
              "      <th>TX_RESPOSTAS_MT</th>\n",
              "      <th>TP_LINGUA</th>\n",
              "      <th>TX_GABARITO_CN</th>\n",
              "      <th>TX_GABARITO_CH</th>\n",
              "      <th>TX_GABARITO_LC</th>\n",
              "      <th>TX_GABARITO_MT</th>\n",
              "      <th>TP_STATUS_REDACAO</th>\n",
              "      <th>NU_NOTA_COMP1</th>\n",
              "      <th>NU_NOTA_COMP2</th>\n",
              "      <th>NU_NOTA_COMP3</th>\n",
              "      <th>NU_NOTA_COMP4</th>\n",
              "      <th>NU_NOTA_COMP5</th>\n",
              "      <th>NU_NOTA_REDACAO</th>\n",
              "      <th>Q001</th>\n",
              "      <th>Q002</th>\n",
              "      <th>Q003</th>\n",
              "      <th>Q004</th>\n",
              "      <th>Q005</th>\n",
              "      <th>Q006</th>\n",
              "      <th>Q007</th>\n",
              "      <th>Q008</th>\n",
              "      <th>Q009</th>\n",
              "      <th>Q010</th>\n",
              "      <th>Q011</th>\n",
              "      <th>Q012</th>\n",
              "      <th>Q013</th>\n",
              "      <th>Q014</th>\n",
              "      <th>Q015</th>\n",
              "      <th>Q016</th>\n",
              "      <th>Q017</th>\n",
              "      <th>Q018</th>\n",
              "      <th>Q019</th>\n",
              "      <th>Q020</th>\n",
              "      <th>Q021</th>\n",
              "      <th>Q022</th>\n",
              "      <th>Q023</th>\n",
              "      <th>Q024</th>\n",
              "      <th>Q025</th>\n",
              "    </tr>\n",
              "  </thead>\n",
              "  <tbody>\n",
              "    <tr>\n",
              "      <th>0</th>\n",
              "      <td>190001005671</td>\n",
              "      <td>2019</td>\n",
              "      <td>3170206</td>\n",
              "      <td>Uberlândia</td>\n",
              "      <td>31</td>\n",
              "      <td>MG</td>\n",
              "      <td>21</td>\n",
              "      <td>M</td>\n",
              "      <td>1</td>\n",
              "      <td>1</td>\n",
              "      <td>1</td>\n",
              "      <td>3170206.0</td>\n",
              "      <td>Uberlândia</td>\n",
              "      <td>31.0</td>\n",
              "      <td>MG</td>\n",
              "      <td>1</td>\n",
              "      <td>1</td>\n",
              "      <td>1</td>\n",
              "      <td>NaN</td>\n",
              "      <td>False</td>\n",
              "      <td>NaN</td>\n",
              "      <td>NaN</td>\n",
              "      <td></td>\n",
              "      <td>NaN</td>\n",
              "      <td></td>\n",
              "      <td>NaN</td>\n",
              "      <td>NaN</td>\n",
              "      <td>NaN</td>\n",
              "      <td>False</td>\n",
              "      <td>False</td>\n",
              "      <td>False</td>\n",
              "      <td>False</td>\n",
              "      <td>False</td>\n",
              "      <td>False</td>\n",
              "      <td>False</td>\n",
              "      <td>False</td>\n",
              "      <td>False</td>\n",
              "      <td>False</td>\n",
              "      <td>False</td>\n",
              "      <td>False</td>\n",
              "      <td>...</td>\n",
              "      <td>ECBCDBCBCBDCDBCEEECACABBEEBCBABCBEDEACBBAAECB</td>\n",
              "      <td>BDABC99999BEAAAEDDDEEACEACBCCCECCCCBCDACADAEBC...</td>\n",
              "      <td>DADDCEEADBECABCDCDBCCDAEDACDDBBBAABDBEADDEEAB</td>\n",
              "      <td>False</td>\n",
              "      <td>BEEAAEBEEBADEADDADAEABCEDDDBCBCBCCACBCDADCCEB</td>\n",
              "      <td>BACCCBABBADCBCEEEBCACACEEDBCCADBEADBADBBBACDB</td>\n",
              "      <td>BDABEABCADBCBAADDBECDAAECDAECBECBCCDEEAAADDBBC...</td>\n",
              "      <td>BEDEEEAADBEBACABCDBABECECACADCBDCCEDCDABECDDD</td>\n",
              "      <td>1.0</td>\n",
              "      <td>180.0</td>\n",
              "      <td>180.0</td>\n",
              "      <td>160.0</td>\n",
              "      <td>180.0</td>\n",
              "      <td>160.0</td>\n",
              "      <td>860.0</td>\n",
              "      <td>E</td>\n",
              "      <td>F</td>\n",
              "      <td>B</td>\n",
              "      <td>D</td>\n",
              "      <td>3</td>\n",
              "      <td>I</td>\n",
              "      <td>A</td>\n",
              "      <td>C</td>\n",
              "      <td>D</td>\n",
              "      <td>B</td>\n",
              "      <td>A</td>\n",
              "      <td>B</td>\n",
              "      <td>A</td>\n",
              "      <td>B</td>\n",
              "      <td>A</td>\n",
              "      <td>B</td>\n",
              "      <td>A</td>\n",
              "      <td>A</td>\n",
              "      <td>D</td>\n",
              "      <td>A</td>\n",
              "      <td>A</td>\n",
              "      <td>D</td>\n",
              "      <td>B</td>\n",
              "      <td>B</td>\n",
              "      <td>B</td>\n",
              "    </tr>\n",
              "    <tr>\n",
              "      <th>1</th>\n",
              "      <td>190001009861</td>\n",
              "      <td>2019</td>\n",
              "      <td>3111705</td>\n",
              "      <td>Canaã</td>\n",
              "      <td>31</td>\n",
              "      <td>MG</td>\n",
              "      <td>20</td>\n",
              "      <td>M</td>\n",
              "      <td>1</td>\n",
              "      <td>1</td>\n",
              "      <td>1</td>\n",
              "      <td>1702109.0</td>\n",
              "      <td>Araguaína</td>\n",
              "      <td>17.0</td>\n",
              "      <td>TO</td>\n",
              "      <td>1</td>\n",
              "      <td>2</td>\n",
              "      <td>1</td>\n",
              "      <td>NaN</td>\n",
              "      <td>False</td>\n",
              "      <td>NaN</td>\n",
              "      <td>NaN</td>\n",
              "      <td></td>\n",
              "      <td>NaN</td>\n",
              "      <td></td>\n",
              "      <td>NaN</td>\n",
              "      <td>NaN</td>\n",
              "      <td>NaN</td>\n",
              "      <td>False</td>\n",
              "      <td>False</td>\n",
              "      <td>False</td>\n",
              "      <td>False</td>\n",
              "      <td>False</td>\n",
              "      <td>False</td>\n",
              "      <td>False</td>\n",
              "      <td>False</td>\n",
              "      <td>False</td>\n",
              "      <td>False</td>\n",
              "      <td>False</td>\n",
              "      <td>False</td>\n",
              "      <td>...</td>\n",
              "      <td></td>\n",
              "      <td></td>\n",
              "      <td></td>\n",
              "      <td>True</td>\n",
              "      <td></td>\n",
              "      <td></td>\n",
              "      <td></td>\n",
              "      <td></td>\n",
              "      <td>NaN</td>\n",
              "      <td>NaN</td>\n",
              "      <td>NaN</td>\n",
              "      <td>NaN</td>\n",
              "      <td>NaN</td>\n",
              "      <td>NaN</td>\n",
              "      <td>NaN</td>\n",
              "      <td>B</td>\n",
              "      <td>B</td>\n",
              "      <td>A</td>\n",
              "      <td>A</td>\n",
              "      <td>5</td>\n",
              "      <td>D</td>\n",
              "      <td>A</td>\n",
              "      <td>B</td>\n",
              "      <td>C</td>\n",
              "      <td>A</td>\n",
              "      <td>B</td>\n",
              "      <td>B</td>\n",
              "      <td>A</td>\n",
              "      <td>A</td>\n",
              "      <td>A</td>\n",
              "      <td>A</td>\n",
              "      <td>A</td>\n",
              "      <td>A</td>\n",
              "      <td>B</td>\n",
              "      <td>A</td>\n",
              "      <td>A</td>\n",
              "      <td>C</td>\n",
              "      <td>A</td>\n",
              "      <td>A</td>\n",
              "      <td>A</td>\n",
              "    </tr>\n",
              "    <tr>\n",
              "      <th>2</th>\n",
              "      <td>190001021622</td>\n",
              "      <td>2019</td>\n",
              "      <td>3104007</td>\n",
              "      <td>Araxá</td>\n",
              "      <td>31</td>\n",
              "      <td>MG</td>\n",
              "      <td>24</td>\n",
              "      <td>M</td>\n",
              "      <td>1</td>\n",
              "      <td>2</td>\n",
              "      <td>1</td>\n",
              "      <td>3104007.0</td>\n",
              "      <td>Araxá</td>\n",
              "      <td>31.0</td>\n",
              "      <td>MG</td>\n",
              "      <td>1</td>\n",
              "      <td>5</td>\n",
              "      <td>1</td>\n",
              "      <td>1.0</td>\n",
              "      <td>False</td>\n",
              "      <td>NaN</td>\n",
              "      <td>NaN</td>\n",
              "      <td></td>\n",
              "      <td>NaN</td>\n",
              "      <td></td>\n",
              "      <td>NaN</td>\n",
              "      <td>NaN</td>\n",
              "      <td>NaN</td>\n",
              "      <td>False</td>\n",
              "      <td>False</td>\n",
              "      <td>False</td>\n",
              "      <td>False</td>\n",
              "      <td>False</td>\n",
              "      <td>False</td>\n",
              "      <td>False</td>\n",
              "      <td>False</td>\n",
              "      <td>False</td>\n",
              "      <td>False</td>\n",
              "      <td>False</td>\n",
              "      <td>False</td>\n",
              "      <td>...</td>\n",
              "      <td></td>\n",
              "      <td></td>\n",
              "      <td></td>\n",
              "      <td>True</td>\n",
              "      <td></td>\n",
              "      <td></td>\n",
              "      <td></td>\n",
              "      <td></td>\n",
              "      <td>NaN</td>\n",
              "      <td>NaN</td>\n",
              "      <td>NaN</td>\n",
              "      <td>NaN</td>\n",
              "      <td>NaN</td>\n",
              "      <td>NaN</td>\n",
              "      <td>NaN</td>\n",
              "      <td>C</td>\n",
              "      <td>C</td>\n",
              "      <td>B</td>\n",
              "      <td>B</td>\n",
              "      <td>3</td>\n",
              "      <td>F</td>\n",
              "      <td>A</td>\n",
              "      <td>B</td>\n",
              "      <td>D</td>\n",
              "      <td>A</td>\n",
              "      <td>A</td>\n",
              "      <td>B</td>\n",
              "      <td>A</td>\n",
              "      <td>B</td>\n",
              "      <td>B</td>\n",
              "      <td>A</td>\n",
              "      <td>A</td>\n",
              "      <td>A</td>\n",
              "      <td>C</td>\n",
              "      <td>B</td>\n",
              "      <td>A</td>\n",
              "      <td>C</td>\n",
              "      <td>A</td>\n",
              "      <td>A</td>\n",
              "      <td>B</td>\n",
              "    </tr>\n",
              "    <tr>\n",
              "      <th>3</th>\n",
              "      <td>190001026636</td>\n",
              "      <td>2019</td>\n",
              "      <td>3106200</td>\n",
              "      <td>Belo Horizonte</td>\n",
              "      <td>31</td>\n",
              "      <td>MG</td>\n",
              "      <td>33</td>\n",
              "      <td>M</td>\n",
              "      <td>1</td>\n",
              "      <td>1</td>\n",
              "      <td>1</td>\n",
              "      <td>3118304.0</td>\n",
              "      <td>Conselheiro Lafaiete</td>\n",
              "      <td>31.0</td>\n",
              "      <td>MG</td>\n",
              "      <td>1</td>\n",
              "      <td>13</td>\n",
              "      <td>1</td>\n",
              "      <td>NaN</td>\n",
              "      <td>False</td>\n",
              "      <td>NaN</td>\n",
              "      <td>NaN</td>\n",
              "      <td></td>\n",
              "      <td>NaN</td>\n",
              "      <td></td>\n",
              "      <td>NaN</td>\n",
              "      <td>NaN</td>\n",
              "      <td>NaN</td>\n",
              "      <td>False</td>\n",
              "      <td>False</td>\n",
              "      <td>False</td>\n",
              "      <td>False</td>\n",
              "      <td>False</td>\n",
              "      <td>False</td>\n",
              "      <td>False</td>\n",
              "      <td>False</td>\n",
              "      <td>False</td>\n",
              "      <td>False</td>\n",
              "      <td>False</td>\n",
              "      <td>False</td>\n",
              "      <td>...</td>\n",
              "      <td></td>\n",
              "      <td></td>\n",
              "      <td></td>\n",
              "      <td>True</td>\n",
              "      <td></td>\n",
              "      <td></td>\n",
              "      <td></td>\n",
              "      <td></td>\n",
              "      <td>NaN</td>\n",
              "      <td>NaN</td>\n",
              "      <td>NaN</td>\n",
              "      <td>NaN</td>\n",
              "      <td>NaN</td>\n",
              "      <td>NaN</td>\n",
              "      <td>NaN</td>\n",
              "      <td>G</td>\n",
              "      <td>D</td>\n",
              "      <td>D</td>\n",
              "      <td>D</td>\n",
              "      <td>3</td>\n",
              "      <td>P</td>\n",
              "      <td>B</td>\n",
              "      <td>D</td>\n",
              "      <td>D</td>\n",
              "      <td>C</td>\n",
              "      <td>A</td>\n",
              "      <td>B</td>\n",
              "      <td>B</td>\n",
              "      <td>B</td>\n",
              "      <td>A</td>\n",
              "      <td>B</td>\n",
              "      <td>A</td>\n",
              "      <td>B</td>\n",
              "      <td>B</td>\n",
              "      <td>A</td>\n",
              "      <td>A</td>\n",
              "      <td>D</td>\n",
              "      <td>A</td>\n",
              "      <td>D</td>\n",
              "      <td>B</td>\n",
              "    </tr>\n",
              "    <tr>\n",
              "      <th>4</th>\n",
              "      <td>190001026742</td>\n",
              "      <td>2019</td>\n",
              "      <td>3162401</td>\n",
              "      <td>São João da Ponte</td>\n",
              "      <td>31</td>\n",
              "      <td>MG</td>\n",
              "      <td>23</td>\n",
              "      <td>M</td>\n",
              "      <td>1</td>\n",
              "      <td>3</td>\n",
              "      <td>1</td>\n",
              "      <td>3162401.0</td>\n",
              "      <td>São João da Ponte</td>\n",
              "      <td>31.0</td>\n",
              "      <td>MG</td>\n",
              "      <td>1</td>\n",
              "      <td>6</td>\n",
              "      <td>1</td>\n",
              "      <td>1.0</td>\n",
              "      <td>False</td>\n",
              "      <td>NaN</td>\n",
              "      <td>NaN</td>\n",
              "      <td></td>\n",
              "      <td>NaN</td>\n",
              "      <td></td>\n",
              "      <td>NaN</td>\n",
              "      <td>NaN</td>\n",
              "      <td>NaN</td>\n",
              "      <td>False</td>\n",
              "      <td>False</td>\n",
              "      <td>False</td>\n",
              "      <td>False</td>\n",
              "      <td>False</td>\n",
              "      <td>False</td>\n",
              "      <td>False</td>\n",
              "      <td>False</td>\n",
              "      <td>False</td>\n",
              "      <td>False</td>\n",
              "      <td>False</td>\n",
              "      <td>False</td>\n",
              "      <td>...</td>\n",
              "      <td>CBCAADBECEEABCAAACBEEDBEDADBEACDBBCCBECADACAC</td>\n",
              "      <td>BBCEA99999CBDBAECEEACDDCDEDBBCCDECDAADDBECBECA...</td>\n",
              "      <td>BCAECECADCABCEABCCCCAECCCCBACCBAECEDCBACCCBDC</td>\n",
              "      <td>False</td>\n",
              "      <td>BEEAAEBEEBADEADDADAEABCEDDDBCBCBCCACBCDADCCEB</td>\n",
              "      <td>CBABADBBCEEEBCBADCBEEDBBEADBBACDBBACCCCADACAC</td>\n",
              "      <td>BBEDABDACACBABAECBBCCADCEBDBBCDDEEAAADDBECDECA...</td>\n",
              "      <td>BEDEEEAADBEBACABCDBABECECACADCBDCCEDCDABECDDD</td>\n",
              "      <td>1.0</td>\n",
              "      <td>160.0</td>\n",
              "      <td>200.0</td>\n",
              "      <td>140.0</td>\n",
              "      <td>160.0</td>\n",
              "      <td>140.0</td>\n",
              "      <td>800.0</td>\n",
              "      <td>B</td>\n",
              "      <td>D</td>\n",
              "      <td>B</td>\n",
              "      <td>B</td>\n",
              "      <td>3</td>\n",
              "      <td>D</td>\n",
              "      <td>A</td>\n",
              "      <td>B</td>\n",
              "      <td>D</td>\n",
              "      <td>B</td>\n",
              "      <td>B</td>\n",
              "      <td>B</td>\n",
              "      <td>A</td>\n",
              "      <td>A</td>\n",
              "      <td>A</td>\n",
              "      <td>A</td>\n",
              "      <td>A</td>\n",
              "      <td>A</td>\n",
              "      <td>B</td>\n",
              "      <td>B</td>\n",
              "      <td>A</td>\n",
              "      <td>C</td>\n",
              "      <td>A</td>\n",
              "      <td>B</td>\n",
              "      <td>A</td>\n",
              "    </tr>\n",
              "  </tbody>\n",
              "</table>\n",
              "<p>5 rows × 136 columns</p>\n",
              "</div>"
            ],
            "text/plain": [
              "   NU_INSCRICAO  NU_ANO  CO_MUNICIPIO_RESIDENCIA  ... Q023  Q024 Q025\n",
              "0  190001005671    2019                  3170206  ...    B     B    B\n",
              "1  190001009861    2019                  3111705  ...    A     A    A\n",
              "2  190001021622    2019                  3104007  ...    A     A    B\n",
              "3  190001026636    2019                  3106200  ...    A     D    B\n",
              "4  190001026742    2019                  3162401  ...    A     B    A\n",
              "\n",
              "[5 rows x 136 columns]"
            ]
          },
          "metadata": {
            "tags": []
          },
          "execution_count": 10
        }
      ]
    },
    {
      "cell_type": "markdown",
      "metadata": {
        "id": "cRyauC3JjUDH"
      },
      "source": [
        "## Salvar arquivo comprimido"
      ]
    },
    {
      "cell_type": "code",
      "metadata": {
        "id": "BcFaYFugkI4Z"
      },
      "source": [
        "DF_FILTRADO = 'enem_2019_MG.csv'\r\n",
        "DF_SALVO =  'enem_2019_MG.zip'"
      ],
      "execution_count": 11,
      "outputs": []
    },
    {
      "cell_type": "code",
      "metadata": {
        "id": "0zObR1OUigcf"
      },
      "source": [
        "options = {'method': 'zip',\r\n",
        "           'archive_name': DF_FILTRADO}\r\n",
        "df.to_csv(DF_SALVO, index=False, compression=options)  "
      ],
      "execution_count": 12,
      "outputs": []
    },
    {
      "cell_type": "markdown",
      "metadata": {
        "id": "xxv3P05xkBT6"
      },
      "source": [
        "## Carregando Dataset"
      ]
    },
    {
      "cell_type": "code",
      "metadata": {
        "id": "rJCqtkARjjZz"
      },
      "source": [
        "df = pd.read_csv(DF_SALVO)"
      ],
      "execution_count": 13,
      "outputs": []
    },
    {
      "cell_type": "code",
      "metadata": {
        "colab": {
          "base_uri": "https://localhost:8080/"
        },
        "id": "QDYeh_WukXCO",
        "outputId": "4bf51da7-3716-4c7b-b01b-ddef95799106"
      },
      "source": [
        "print(f'Dataframe filtrado possui {df.shape[0]} linhas e {df.shape[1]} colunas')"
      ],
      "execution_count": 14,
      "outputs": [
        {
          "output_type": "stream",
          "text": [
            "Dataframe filtrado possui 538896 linhas e 136 colunas\n"
          ],
          "name": "stdout"
        }
      ]
    },
    {
      "cell_type": "markdown",
      "metadata": {
        "id": "vKocEJBXlJuo"
      },
      "source": [
        "## Respondendo as questões propostas"
      ]
    },
    {
      "cell_type": "code",
      "metadata": {
        "colab": {
          "base_uri": "https://localhost:8080/"
        },
        "id": "yAWrOfy4lNNQ",
        "outputId": "5858b597-f04a-4f4d-d8bf-8c7fc3682aef"
      },
      "source": [
        "# Pergunta 1 - Qual é a média da nota em matemática de todos os alunos mineiros?\r\n",
        "np.round(df['NU_NOTA_MT'].mean(),1)"
      ],
      "execution_count": 15,
      "outputs": [
        {
          "output_type": "execute_result",
          "data": {
            "text/plain": [
              "546.8"
            ]
          },
          "metadata": {
            "tags": []
          },
          "execution_count": 15
        }
      ]
    },
    {
      "cell_type": "code",
      "metadata": {
        "colab": {
          "base_uri": "https://localhost:8080/"
        },
        "id": "2Kjo1Pa5ljcG",
        "outputId": "9101f294-e5f1-4c34-9d86-c33119aa91e7"
      },
      "source": [
        "# Pergunta 2 - Qual é a média da nota em Linguagens e Códigos de todos os alunos mineiros?\r\n",
        "np.round(df['NU_NOTA_LC'].mean(),1)"
      ],
      "execution_count": 16,
      "outputs": [
        {
          "output_type": "execute_result",
          "data": {
            "text/plain": [
              "531.2"
            ]
          },
          "metadata": {
            "tags": []
          },
          "execution_count": 16
        }
      ]
    },
    {
      "cell_type": "code",
      "metadata": {
        "colab": {
          "base_uri": "https://localhost:8080/"
        },
        "id": "ZMwGJGBclp8I",
        "outputId": "4b107bc4-4126-4767-fb5b-b87c12ef618e"
      },
      "source": [
        "# Pergunta 3 - Qual é a média da nota em Ciências Humanas dos alunos do sexo FEMININO mineiros?\r\n",
        "np.round(df.query('TP_SEXO == \"F\"')['NU_NOTA_CH'].mean(),1)"
      ],
      "execution_count": 17,
      "outputs": [
        {
          "output_type": "execute_result",
          "data": {
            "text/plain": [
              "515.1"
            ]
          },
          "metadata": {
            "tags": []
          },
          "execution_count": 17
        }
      ]
    },
    {
      "cell_type": "code",
      "metadata": {
        "colab": {
          "base_uri": "https://localhost:8080/"
        },
        "id": "4My_pQNHmNf4",
        "outputId": "bcd315d3-26e5-44df-b4b4-0eb705106912"
      },
      "source": [
        "# Pergunta 4 - Qual é a média da nota em Ciências Humanas dos alunos do sexo MASCULINO?\r\n",
        "np.round(df.query('TP_SEXO == \"M\"')['NU_NOTA_CH'].mean(),1)"
      ],
      "execution_count": 18,
      "outputs": [
        {
          "output_type": "execute_result",
          "data": {
            "text/plain": [
              "529.7"
            ]
          },
          "metadata": {
            "tags": []
          },
          "execution_count": 18
        }
      ]
    },
    {
      "cell_type": "code",
      "metadata": {
        "colab": {
          "base_uri": "https://localhost:8080/"
        },
        "id": "bm4o_5yymkJ2",
        "outputId": "9aa12bf7-f65d-4ce9-d320-f5921d6e406a"
      },
      "source": [
        "# Pergunta 5 - Qual é a média da nota em Matemática dos alunos do sexo FEMININO que moram na cidade de Montes Claros?\r\n",
        "np.round(df.query('TP_SEXO == \"F\" and NO_MUNICIPIO_RESIDENCIA == \"Montes Claros\"')['NU_NOTA_MT'].mean(),1)"
      ],
      "execution_count": 19,
      "outputs": [
        {
          "output_type": "execute_result",
          "data": {
            "text/plain": [
              "525.5"
            ]
          },
          "metadata": {
            "tags": []
          },
          "execution_count": 19
        }
      ]
    },
    {
      "cell_type": "code",
      "metadata": {
        "colab": {
          "base_uri": "https://localhost:8080/"
        },
        "id": "C8BboXJNmknm",
        "outputId": "35212e7f-faef-4d1e-de01-4440d6529ffd"
      },
      "source": [
        "# Pergunta 6 - Qual é a média da nota em Matemática dos alunos do município de Sabará que possuem TV por assinatura na residência?\r\n",
        "np.round(df.query('NO_MUNICIPIO_RESIDENCIA == \"Sabará\" and Q021 == \"B\"')['NU_NOTA_MT'].mean(),1)"
      ],
      "execution_count": 20,
      "outputs": [
        {
          "output_type": "execute_result",
          "data": {
            "text/plain": [
              "543.3"
            ]
          },
          "metadata": {
            "tags": []
          },
          "execution_count": 20
        }
      ]
    },
    {
      "cell_type": "code",
      "metadata": {
        "colab": {
          "base_uri": "https://localhost:8080/"
        },
        "id": "VEakO-YQmk_I",
        "outputId": "d7776805-601a-4380-e2f0-d53fefb65abd"
      },
      "source": [
        "# Pergunta 7 - Qual é a média da nota em Ciências Humanas dos alunos mineiros que possuem dois fornos micro-ondas em casa?\r\n",
        "np.round(df.query('Q016 == \"C\"')['NU_NOTA_CH'].mean(),1)"
      ],
      "execution_count": 21,
      "outputs": [
        {
          "output_type": "execute_result",
          "data": {
            "text/plain": [
              "557.3"
            ]
          },
          "metadata": {
            "tags": []
          },
          "execution_count": 21
        }
      ]
    },
    {
      "cell_type": "code",
      "metadata": {
        "colab": {
          "base_uri": "https://localhost:8080/"
        },
        "id": "WMbaiYJhmlRw",
        "outputId": "3b5cf5fe-28ea-4ae2-e777-f41b72dde1e2"
      },
      "source": [
        "# Pergunta 8 - Qual é a nota média em Matemática dos alunos mineiros cuja mãe completou a pós-graduação?\r\n",
        "np.round(df.query('Q002 == \"G\"')['NU_NOTA_MT'].mean(),1)"
      ],
      "execution_count": 22,
      "outputs": [
        {
          "output_type": "execute_result",
          "data": {
            "text/plain": [
              "620.0"
            ]
          },
          "metadata": {
            "tags": []
          },
          "execution_count": 22
        }
      ]
    },
    {
      "cell_type": "code",
      "metadata": {
        "colab": {
          "base_uri": "https://localhost:8080/"
        },
        "id": "WlJ4NtQFmwA5",
        "outputId": "9f1d4b6a-0a11-40d3-edb8-5e582baf993e"
      },
      "source": [
        "# Pergunta 9 - Qual é a nota média em Matemática dos alunos de Belo Horizonte e de Conselheiro Lafaiete?\r\n",
        "np.round(df.query('NO_MUNICIPIO_RESIDENCIA in (\"Conselheiro Lafaiete\",\"Belo Horizonte\")')['NU_NOTA_MT'].mean(),1)"
      ],
      "execution_count": 23,
      "outputs": [
        {
          "output_type": "execute_result",
          "data": {
            "text/plain": [
              "578.0"
            ]
          },
          "metadata": {
            "tags": []
          },
          "execution_count": 23
        }
      ]
    },
    {
      "cell_type": "code",
      "metadata": {
        "colab": {
          "base_uri": "https://localhost:8080/"
        },
        "id": "zEjpapA_mwUR",
        "outputId": "7ff8ab16-c71c-4570-f6a2-f93389e9cdf6"
      },
      "source": [
        "# Pergunta 10 - Qual é a nota média em Ciências Humanas dos alunos mineiros que moram sozinhos?\r\n",
        "np.round(df.query('Q005 == 1')['NU_NOTA_CH'].mean(),1)"
      ],
      "execution_count": 24,
      "outputs": [
        {
          "output_type": "execute_result",
          "data": {
            "text/plain": [
              "534.5"
            ]
          },
          "metadata": {
            "tags": []
          },
          "execution_count": 24
        }
      ]
    },
    {
      "cell_type": "code",
      "metadata": {
        "colab": {
          "base_uri": "https://localhost:8080/"
        },
        "id": "NbUWzgdymwnr",
        "outputId": "e7aa4485-0c5a-4f96-d5fd-3bc4a549d4f2"
      },
      "source": [
        "# Pergunta 11 - Qual é a nota média em Ciências Humanas dos alunos mineiros cujo pai completou pós-graduação e possuem renda familiar entre R$ 8.982,01 e R$ 9.980,00.\r\n",
        "np.round(df.query('Q001 == \"G\" and Q006 == \"M\"')['NU_NOTA_CH'].mean(),1)"
      ],
      "execution_count": 25,
      "outputs": [
        {
          "output_type": "execute_result",
          "data": {
            "text/plain": [
              "586.7"
            ]
          },
          "metadata": {
            "tags": []
          },
          "execution_count": 25
        }
      ]
    },
    {
      "cell_type": "code",
      "metadata": {
        "colab": {
          "base_uri": "https://localhost:8080/"
        },
        "id": "LyejQwysmw5h",
        "outputId": "1ea906e6-7f08-4df2-ee90-311512d6c7ee"
      },
      "source": [
        "# Pergunta 12 - Qual é a nota média em Matemática dos alunos do sexo Feminino que moram em Lavras e escolheram “Espanhol” como língua estrangeira?\r\n",
        "np.round(df.query('TP_SEXO == \"F\" and NO_MUNICIPIO_RESIDENCIA == \"Lavras\" and TP_LINGUA == 1')['NU_NOTA_MT'].mean(),1)"
      ],
      "execution_count": 26,
      "outputs": [
        {
          "output_type": "execute_result",
          "data": {
            "text/plain": [
              "510.8"
            ]
          },
          "metadata": {
            "tags": []
          },
          "execution_count": 26
        }
      ]
    },
    {
      "cell_type": "code",
      "metadata": {
        "colab": {
          "base_uri": "https://localhost:8080/"
        },
        "id": "8LkVuIOomxJl",
        "outputId": "3c180a92-bc35-4c41-cc90-d6957fa55fde"
      },
      "source": [
        "# Pergunta 13 - Qual é a nota média em Matemática dos alunos do sexo Masculino que moram em Ouro Preto?\r\n",
        "np.round(df.query('TP_SEXO == \"M\" and NO_MUNICIPIO_RESIDENCIA == \"Ouro Preto\"')['NU_NOTA_MT'].mean(),1)"
      ],
      "execution_count": 27,
      "outputs": [
        {
          "output_type": "execute_result",
          "data": {
            "text/plain": [
              "555.1"
            ]
          },
          "metadata": {
            "tags": []
          },
          "execution_count": 27
        }
      ]
    },
    {
      "cell_type": "code",
      "metadata": {
        "colab": {
          "base_uri": "https://localhost:8080/"
        },
        "id": "nAibdLAamxVA",
        "outputId": "32ee338b-f4cb-4ec3-fc55-cecbdae9054c"
      },
      "source": [
        "# Pergunta 14 - Qual é a nota média em Ciências Humanas dos alunos surdos?\r\n",
        "np.round(df.query('IN_SURDEZ == 1')['NU_NOTA_CH'].mean(),1)"
      ],
      "execution_count": 28,
      "outputs": [
        {
          "output_type": "execute_result",
          "data": {
            "text/plain": [
              "435.4"
            ]
          },
          "metadata": {
            "tags": []
          },
          "execution_count": 28
        }
      ]
    },
    {
      "cell_type": "code",
      "metadata": {
        "colab": {
          "base_uri": "https://localhost:8080/"
        },
        "id": "RUpu1Dl_mxik",
        "outputId": "1b9aa390-bdf0-467c-c2cf-365458368e4d"
      },
      "source": [
        "# Pergunta 15 - Qual é a nota média em Matemática dos alunos do sexo FEMININO, que moram em Belo Horizonte, Sabará, Nova Lima e Betim e possuem dislexia?\r\n",
        "np.round(df.query('TP_SEXO == \"F\" and NO_MUNICIPIO_RESIDENCIA in (\"Belo Horizonte\", \"Sabará\", \"Nova Lima\", \"Betim\") and IN_DISLEXIA == 1')['NU_NOTA_MT'].mean(),1)"
      ],
      "execution_count": 29,
      "outputs": [
        {
          "output_type": "execute_result",
          "data": {
            "text/plain": [
              "582.2"
            ]
          },
          "metadata": {
            "tags": []
          },
          "execution_count": 29
        }
      ]
    },
    {
      "cell_type": "markdown",
      "metadata": {
        "id": "LqCDSqB2pe_Y"
      },
      "source": [
        "## Carregando em um BD"
      ]
    },
    {
      "cell_type": "code",
      "metadata": {
        "id": "Jj8N_RyQokKx"
      },
      "source": [
        "import sqlite3"
      ],
      "execution_count": 30,
      "outputs": []
    },
    {
      "cell_type": "code",
      "metadata": {
        "id": "0Pr_XBk8qO4I"
      },
      "source": [
        "conn = sqlite3.connect(\"./enem_mg.db\")"
      ],
      "execution_count": 31,
      "outputs": []
    },
    {
      "cell_type": "code",
      "metadata": {
        "id": "cyJtghsfqUUq"
      },
      "source": [
        "df.to_sql('enem_2019', con=conn, if_exists='append')"
      ],
      "execution_count": 32,
      "outputs": []
    },
    {
      "cell_type": "code",
      "metadata": {
        "id": "qKRjP3bOqml5"
      },
      "source": [
        "cur = conn.cursor()"
      ],
      "execution_count": 33,
      "outputs": []
    },
    {
      "cell_type": "code",
      "metadata": {
        "colab": {
          "base_uri": "https://localhost:8080/"
        },
        "id": "J9MIRJUBqtko",
        "outputId": "41aa92ed-b155-44a8-fd3d-33a9b105e206"
      },
      "source": [
        "# Pergunta 1 - Qual é a média da nota em matemática de todos os alunos mineiros?\r\n",
        "pd.read_sql_query('SELECT NU_NOTA_MT FROM enem_2019', conn).mean()"
      ],
      "execution_count": 34,
      "outputs": [
        {
          "output_type": "execute_result",
          "data": {
            "text/plain": [
              "NU_NOTA_MT    546.796208\n",
              "dtype: float64"
            ]
          },
          "metadata": {
            "tags": []
          },
          "execution_count": 34
        }
      ]
    },
    {
      "cell_type": "code",
      "metadata": {
        "id": "xV-T1weprlFS"
      },
      "source": [
        "conn.close()"
      ],
      "execution_count": 35,
      "outputs": []
    }
  ]
}